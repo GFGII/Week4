{
 "cells": [
  {
   "cell_type": "code",
   "execution_count": 1,
   "id": "27b2e28b",
   "metadata": {
    "ExecuteTime": {
     "end_time": "2022-11-01T05:23:02.247192Z",
     "start_time": "2022-11-01T05:23:02.244647Z"
    }
   },
   "outputs": [],
   "source": [
    "def get_height(board):\n",
    "    return len(board)\n",
    "\n",
    "def get_width(board):\n",
    "    return len(board[0])\n",
    "\n",
    "def get_board(board, x, y):\n",
    "    return board[x][y]\n",
    "\n",
    "def set_pixel(board,x,y,value):\n",
    "    row = board[x]\n",
    "    row = list(row)\n",
    "    row[y] = value\n",
    "    return''.join(row)"
   ]
  },
  {
   "cell_type": "code",
   "execution_count": 2,
   "id": "c716a62f",
   "metadata": {
    "ExecuteTime": {
     "end_time": "2022-11-01T05:23:02.253120Z",
     "start_time": "2022-11-01T05:23:02.249062Z"
    }
   },
   "outputs": [],
   "source": [
    "from typing import List\n",
    "\n",
    "board = [\n",
    "    \"......................\",\n",
    "    \"......##########......\",\n",
    "    \"......#........#......\",\n",
    "    \"......#........#......\",\n",
    "    \"......#........#####..\",\n",
    "    \"....###............#..\",\n",
    "    \"....#............###..\",\n",
    "    \"....##############....\",\n",
    "]\n",
    "\n",
    "def flood_fill(input_board: List[str], old: str, new: str, x: int, y: int) -> List[str]:\n",
    "    \"\"\"\n",
    "    The flood fill function that uses dfs to solve.\n",
    "    \"\"\"\n",
    "    len1 = get_height(input_board)\n",
    "    len2 = get_width(input_board)\n",
    "    \n",
    "    def recursive(m, n):\n",
    "        if input_board[m][n] != old:\n",
    "            return\n",
    "        \n",
    "        else:\n",
    "            input_board[m] = input_board[m][:n] + new + input_board[m][n + 1:]\n",
    "            \n",
    "            if m > 0:\n",
    "                recursive(m - 1, n)\n",
    "            \n",
    "            if n > 0:\n",
    "                recursive(m, n - 1)\n",
    "            \n",
    "            if m + 1 < len1:\n",
    "                recursive(m + 1, n)\n",
    "            \n",
    "            if n + 1 < len2:\n",
    "                recursive(m, n + 1)\n",
    "    \n",
    "    recursive(x, y)\n",
    "    \n",
    "    return input_board\n",
    "    \n",
    "    \n",
    "    \n",
    "    "
   ]
  },
  {
   "cell_type": "code",
   "execution_count": 3,
   "id": "8b7b1d0b",
   "metadata": {
    "ExecuteTime": {
     "end_time": "2022-11-01T05:23:02.256972Z",
     "start_time": "2022-11-01T05:23:02.254264Z"
    }
   },
   "outputs": [
    {
     "name": "stdout",
     "output_type": "stream",
     "text": [
      "......................\n",
      "......##########......\n",
      "......#~~~~~~~~#......\n",
      "......#~~~~~~~~#......\n",
      "......#~~~~~~~~#####..\n",
      "....###~~~~~~~~~~~~#..\n",
      "....#~~~~~~~~~~~~###..\n",
      "....##############....\n"
     ]
    }
   ],
   "source": [
    "new_board = flood_fill(input_board=board, old=\".\", new=\"~\", x=5, y=12)\n",
    "\n",
    "for line in new_board:\n",
    "    print(line)\n",
    "\n",
    "# Expected output:\n",
    "# ......................\n",
    "# ......##########......\n",
    "# ......#~~~~~~~~#......\n",
    "# ......#~~~~~~~~#......\n",
    "# ......#~~~~~~~~#####..\n",
    "# ....###~~~~~~~~~~~~#..\n",
    "# ....#~~~~~~~~~~~~###..\n",
    "# ....##############...."
   ]
  },
  {
   "cell_type": "code",
   "execution_count": null,
   "id": "95b41138",
   "metadata": {},
   "outputs": [],
   "source": []
  }
 ],
 "metadata": {
  "kernelspec": {
   "display_name": "Python 3",
   "language": "python",
   "name": "python3"
  },
  "language_info": {
   "codemirror_mode": {
    "name": "ipython",
    "version": 3
   },
   "file_extension": ".py",
   "mimetype": "text/x-python",
   "name": "python",
   "nbconvert_exporter": "python",
   "pygments_lexer": "ipython3",
   "version": "3.8.8"
  },
  "toc": {
   "base_numbering": 1,
   "nav_menu": {},
   "number_sections": true,
   "sideBar": true,
   "skip_h1_title": false,
   "title_cell": "Table of Contents",
   "title_sidebar": "Contents",
   "toc_cell": false,
   "toc_position": {},
   "toc_section_display": true,
   "toc_window_display": false
  },
  "varInspector": {
   "cols": {
    "lenName": 16,
    "lenType": 16,
    "lenVar": 40
   },
   "kernels_config": {
    "python": {
     "delete_cmd_postfix": "",
     "delete_cmd_prefix": "del ",
     "library": "var_list.py",
     "varRefreshCmd": "print(var_dic_list())"
    },
    "r": {
     "delete_cmd_postfix": ") ",
     "delete_cmd_prefix": "rm(",
     "library": "var_list.r",
     "varRefreshCmd": "cat(var_dic_list()) "
    }
   },
   "types_to_exclude": [
    "module",
    "function",
    "builtin_function_or_method",
    "instance",
    "_Feature"
   ],
   "window_display": false
  }
 },
 "nbformat": 4,
 "nbformat_minor": 5
}
